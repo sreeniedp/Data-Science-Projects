{
  "nbformat": 4,
  "nbformat_minor": 0,
  "metadata": {
    "colab": {
      "name": "ImageAI - object detection.ipynb",
      "provenance": [],
      "collapsed_sections": [],
      "include_colab_link": true
    },
    "kernelspec": {
      "name": "python3",
      "display_name": "Python 3"
    },
    "accelerator": "GPU"
  },
  "cells": [
    {
      "cell_type": "markdown",
      "metadata": {
        "id": "view-in-github",
        "colab_type": "text"
      },
      "source": [
        "<a href=\"https://colab.research.google.com/github/sreeniedp/Data-Science-Projects/blob/master/ImageAI_object_detection.ipynb\" target=\"_parent\"><img src=\"https://colab.research.google.com/assets/colab-badge.svg\" alt=\"Open In Colab\"/></a>"
      ]
    },
    {
      "cell_type": "markdown",
      "metadata": {
        "id": "lNQZyftYBiMP",
        "colab_type": "text"
      },
      "source": [
        "# Data Science Academy\n",
        "[https:/datascience.one](https:/datascience.one)"
      ]
    },
    {
      "cell_type": "code",
      "metadata": {
        "id": "9nfe47RDbTYj",
        "colab_type": "code",
        "colab": {}
      },
      "source": [
        "!pip3 install imageai --upgrade\n",
        "!pip3 install tensorflow==1.15"
      ],
      "execution_count": null,
      "outputs": []
    },
    {
      "cell_type": "markdown",
      "metadata": {
        "id": "5SuVPHPPsYFe",
        "colab_type": "text"
      },
      "source": [
        "Path to ImageAI Tutorial Part 1: https://towardsdatascience.com/object-detection-with-10-lines-of-code-d6cb4d86f606\n",
        "\n",
        "\n",
        "Path to ImageAI Tutorial (Training for Custome Object Detection) Part 2: https://medium.com/deepquestai/train-object-detection-ai-with-6-lines-of-code-6d087063f6ff"
      ]
    },
    {
      "cell_type": "code",
      "metadata": {
        "id": "4jui1NrperSf",
        "colab_type": "code",
        "colab": {}
      },
      "source": [
        "from google.colab import drive\n",
        "drive.mount('/gdrive')"
      ],
      "execution_count": null,
      "outputs": []
    },
    {
      "cell_type": "code",
      "metadata": {
        "id": "msvyE50-iOIb",
        "colab_type": "code",
        "colab": {}
      },
      "source": [
        "ls /gdrive"
      ],
      "execution_count": null,
      "outputs": []
    },
    {
      "cell_type": "code",
      "metadata": {
        "id": "zIABt1D5k6oG",
        "colab_type": "code",
        "colab": {}
      },
      "source": [
        "!cp -r   /content/sample_data/ /gdrive/My\\ Drive/myExp"
      ],
      "execution_count": null,
      "outputs": []
    },
    {
      "cell_type": "code",
      "metadata": {
        "id": "RH8TfT8BizUo",
        "colab_type": "code",
        "colab": {}
      },
      "source": [
        "#ls /gdrive/My\\ Drive"
      ],
      "execution_count": null,
      "outputs": []
    },
    {
      "cell_type": "markdown",
      "metadata": {
        "id": "0ttijJdlrAj_",
        "colab_type": "text"
      },
      "source": [
        "## Download Model from github"
      ]
    },
    {
      "cell_type": "code",
      "metadata": {
        "id": "smgWpJ-WqBtS",
        "colab_type": "code",
        "colab": {}
      },
      "source": [
        "!wget https://github.com/OlafenwaMoses/ImageAI/releases/download/1.0/resnet50_coco_best_v2.0.1.h5"
      ],
      "execution_count": null,
      "outputs": []
    },
    {
      "cell_type": "code",
      "metadata": {
        "id": "gOJZM-ZFbVQ4",
        "colab_type": "code",
        "colab": {}
      },
      "source": [
        "%%writefile FirstDetection.py\n",
        "\n",
        "imageFile=\"trafficjamd.JPG\" # set the name of the image file here\n",
        "\n",
        "from imageai.Detection import ObjectDetection\n",
        "import os\n",
        "import tensorflow.compat.v1 as tf\n",
        "tf.disable_v2_behavior()\n",
        "\n",
        "execution_path = os.getcwd()\n",
        "\n",
        "detector = ObjectDetection()\n",
        "detector.setModelTypeAsRetinaNet()\n",
        "detector.setModelPath( os.path.join(execution_path , \"resnet50_coco_best_v2.0.1.h5\"))\n",
        "detector.loadModel()\n",
        "detections = detector.detectObjectsFromImage(input_image=os.path.join(\"/gdrive/My Drive/myExp\", imageFile), output_image_path=os.path.join(execution_path , \"imagenew.jpg\"))\n",
        "\n",
        "for eachObject in detections:\n",
        "    print(eachObject[\"name\"] , \" : \" , eachObject[\"percentage_probability\"] )"
      ],
      "execution_count": null,
      "outputs": []
    },
    {
      "cell_type": "markdown",
      "metadata": {
        "id": "XJmaymQIvju7",
        "colab_type": "text"
      },
      "source": [
        "## Execute Python Script"
      ]
    },
    {
      "cell_type": "code",
      "metadata": {
        "id": "_9qNwDUtvFOr",
        "colab_type": "code",
        "colab": {}
      },
      "source": [
        "!python3 FirstDetection.py"
      ],
      "execution_count": null,
      "outputs": []
    }
  ]
}