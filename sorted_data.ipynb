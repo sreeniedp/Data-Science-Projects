{
  "nbformat": 4,
  "nbformat_minor": 0,
  "metadata": {
    "colab": {
      "name": "sorted_data.ipynb",
      "provenance": [],
      "authorship_tag": "ABX9TyNUK8hWVsUosypY0XGHPgww",
      "include_colab_link": true
    },
    "kernelspec": {
      "name": "python3",
      "display_name": "Python 3"
    }
  },
  "cells": [
    {
      "cell_type": "markdown",
      "metadata": {
        "id": "view-in-github",
        "colab_type": "text"
      },
      "source": [
        "<a href=\"https://colab.research.google.com/github/sreeniedp/Data-Science-Projects/blob/master/sorted_data.ipynb\" target=\"_parent\"><img src=\"https://colab.research.google.com/assets/colab-badge.svg\" alt=\"Open In Colab\"/></a>"
      ]
    },
    {
      "cell_type": "code",
      "metadata": {
        "id": "W0xzJi9-kCwA"
      },
      "source": [
        "import numpy as np\r\n",
        "import pandas as pd\r\n"
      ],
      "execution_count": 1,
      "outputs": []
    },
    {
      "cell_type": "code",
      "metadata": {
        "id": "i4MjDqbqlMSi"
      },
      "source": [
        "df= pd.read_csv ('MFL_data_sorted.csv', index_col= False)"
      ],
      "execution_count": 2,
      "outputs": []
    },
    {
      "cell_type": "code",
      "metadata": {
        "id": "kYX6xzIbmJ3b"
      },
      "source": [
        "df=df.iloc[:,1:]"
      ],
      "execution_count": 7,
      "outputs": []
    },
    {
      "cell_type": "code",
      "metadata": {
        "colab": {
          "base_uri": "https://localhost:8080/",
          "height": 204
        },
        "id": "0DUObM7kmMp2",
        "outputId": "9c5d35b7-eff3-4706-f999-6a1ffbdf94e3"
      },
      "source": [
        "df.head()"
      ],
      "execution_count": 16,
      "outputs": [
        {
          "output_type": "execute_result",
          "data": {
            "text/html": [
              "<div>\n",
              "<style scoped>\n",
              "    .dataframe tbody tr th:only-of-type {\n",
              "        vertical-align: middle;\n",
              "    }\n",
              "\n",
              "    .dataframe tbody tr th {\n",
              "        vertical-align: top;\n",
              "    }\n",
              "\n",
              "    .dataframe thead th {\n",
              "        text-align: right;\n",
              "    }\n",
              "</style>\n",
              "<table border=\"1\" class=\"dataframe\">\n",
              "  <thead>\n",
              "    <tr style=\"text-align: right;\">\n",
              "      <th></th>\n",
              "      <th>Ct_Date</th>\n",
              "      <th>Day</th>\n",
              "      <th>Ct_Time</th>\n",
              "      <th>GLPLNOS</th>\n",
              "    </tr>\n",
              "  </thead>\n",
              "  <tbody>\n",
              "    <tr>\n",
              "      <th>0</th>\n",
              "      <td>2017-12-11</td>\n",
              "      <td>Monday</td>\n",
              "      <td>10</td>\n",
              "      <td>91.0</td>\n",
              "    </tr>\n",
              "    <tr>\n",
              "      <th>1</th>\n",
              "      <td>2017-12-11</td>\n",
              "      <td>Monday</td>\n",
              "      <td>12</td>\n",
              "      <td>1117.0</td>\n",
              "    </tr>\n",
              "    <tr>\n",
              "      <th>2</th>\n",
              "      <td>2017-12-11</td>\n",
              "      <td>Monday</td>\n",
              "      <td>14</td>\n",
              "      <td>2708.0</td>\n",
              "    </tr>\n",
              "    <tr>\n",
              "      <th>3</th>\n",
              "      <td>2017-12-11</td>\n",
              "      <td>Monday</td>\n",
              "      <td>16</td>\n",
              "      <td>3761.0</td>\n",
              "    </tr>\n",
              "    <tr>\n",
              "      <th>4</th>\n",
              "      <td>2017-12-11</td>\n",
              "      <td>Monday</td>\n",
              "      <td>18</td>\n",
              "      <td>4591.0</td>\n",
              "    </tr>\n",
              "  </tbody>\n",
              "</table>\n",
              "</div>"
            ],
            "text/plain": [
              "      Ct_Date     Day  Ct_Time  GLPLNOS\n",
              "0  2017-12-11  Monday       10     91.0\n",
              "1  2017-12-11  Monday       12   1117.0\n",
              "2  2017-12-11  Monday       14   2708.0\n",
              "3  2017-12-11  Monday       16   3761.0\n",
              "4  2017-12-11  Monday       18   4591.0"
            ]
          },
          "metadata": {
            "tags": []
          },
          "execution_count": 16
        }
      ]
    },
    {
      "cell_type": "code",
      "metadata": {
        "id": "iGjUzZyTo5Jp"
      },
      "source": [
        "df_gp=df.groupby(['Ct_Date'\t,'Day',\t'Ct_Time']).sum()"
      ],
      "execution_count": 17,
      "outputs": []
    },
    {
      "cell_type": "code",
      "metadata": {
        "colab": {
          "base_uri": "https://localhost:8080/",
          "height": 390
        },
        "id": "hPMt3c9IrOs5",
        "outputId": "62f2d319-1aea-4e3f-feb9-608284362794"
      },
      "source": [
        "df_gp.tail(10)"
      ],
      "execution_count": 21,
      "outputs": [
        {
          "output_type": "execute_result",
          "data": {
            "text/html": [
              "<div>\n",
              "<style scoped>\n",
              "    .dataframe tbody tr th:only-of-type {\n",
              "        vertical-align: middle;\n",
              "    }\n",
              "\n",
              "    .dataframe tbody tr th {\n",
              "        vertical-align: top;\n",
              "    }\n",
              "\n",
              "    .dataframe thead th {\n",
              "        text-align: right;\n",
              "    }\n",
              "</style>\n",
              "<table border=\"1\" class=\"dataframe\">\n",
              "  <thead>\n",
              "    <tr style=\"text-align: right;\">\n",
              "      <th></th>\n",
              "      <th></th>\n",
              "      <th></th>\n",
              "      <th>GLPLNOS</th>\n",
              "    </tr>\n",
              "    <tr>\n",
              "      <th>Ct_Date</th>\n",
              "      <th>Day</th>\n",
              "      <th>Ct_Time</th>\n",
              "      <th></th>\n",
              "    </tr>\n",
              "  </thead>\n",
              "  <tbody>\n",
              "    <tr>\n",
              "      <th rowspan=\"3\" valign=\"top\">2020-12-30</th>\n",
              "      <th rowspan=\"3\" valign=\"top\">Wednesday</th>\n",
              "      <th>18</th>\n",
              "      <td>28677.0</td>\n",
              "    </tr>\n",
              "    <tr>\n",
              "      <th>20</th>\n",
              "      <td>28775.0</td>\n",
              "    </tr>\n",
              "    <tr>\n",
              "      <th>22</th>\n",
              "      <td>28776.0</td>\n",
              "    </tr>\n",
              "    <tr>\n",
              "      <th rowspan=\"7\" valign=\"top\">2020-12-31</th>\n",
              "      <th rowspan=\"7\" valign=\"top\">Thursday</th>\n",
              "      <th>10</th>\n",
              "      <td>568.0</td>\n",
              "    </tr>\n",
              "    <tr>\n",
              "      <th>12</th>\n",
              "      <td>7044.0</td>\n",
              "    </tr>\n",
              "    <tr>\n",
              "      <th>14</th>\n",
              "      <td>15363.0</td>\n",
              "    </tr>\n",
              "    <tr>\n",
              "      <th>16</th>\n",
              "      <td>22881.0</td>\n",
              "    </tr>\n",
              "    <tr>\n",
              "      <th>18</th>\n",
              "      <td>27851.0</td>\n",
              "    </tr>\n",
              "    <tr>\n",
              "      <th>20</th>\n",
              "      <td>27959.0</td>\n",
              "    </tr>\n",
              "    <tr>\n",
              "      <th>22</th>\n",
              "      <td>27959.0</td>\n",
              "    </tr>\n",
              "  </tbody>\n",
              "</table>\n",
              "</div>"
            ],
            "text/plain": [
              "                              GLPLNOS\n",
              "Ct_Date    Day       Ct_Time         \n",
              "2020-12-30 Wednesday 18       28677.0\n",
              "                     20       28775.0\n",
              "                     22       28776.0\n",
              "2020-12-31 Thursday  10         568.0\n",
              "                     12        7044.0\n",
              "                     14       15363.0\n",
              "                     16       22881.0\n",
              "                     18       27851.0\n",
              "                     20       27959.0\n",
              "                     22       27959.0"
            ]
          },
          "metadata": {
            "tags": []
          },
          "execution_count": 21
        }
      ]
    },
    {
      "cell_type": "code",
      "metadata": {
        "id": "kn12rH2duYMn"
      },
      "source": [
        "pvt = pd.pivot_table(df.reset_index(), index=['index','trans','entity','st', 'fec_id'],\r\n",
        "   .....:                      columns='cmte_id', values='amount', aggfunc='sum', fill_value=0) \\\r\n",
        "   .....:         .reset_index()"
      ],
      "execution_count": null,
      "outputs": []
    },
    {
      "cell_type": "code",
      "metadata": {
        "id": "ITvzMMo_uznu"
      },
      "source": [
        "df_pvt=pd.pivot_table(df_gp.reset_index(),index=['Ct_Date','Day'],columns='Ct_Time',values='GLPLNOS', aggfunc='sum', fill_value=0)"
      ],
      "execution_count": 33,
      "outputs": []
    },
    {
      "cell_type": "code",
      "metadata": {
        "id": "T1hs3dxnpI_J"
      },
      "source": [
        ""
      ],
      "execution_count": 25,
      "outputs": []
    },
    {
      "cell_type": "code",
      "metadata": {
        "colab": {
          "base_uri": "https://localhost:8080/"
        },
        "id": "uY9flN7RqqxE",
        "outputId": "94596a3a-09ce-4d33-d23c-01b52d2f14b2"
      },
      "source": [
        "df_pvt.columns"
      ],
      "execution_count": 34,
      "outputs": [
        {
          "output_type": "execute_result",
          "data": {
            "text/plain": [
              "Int64Index([10, 12, 14, 16, 18, 20, 22], dtype='int64', name='Ct_Time')"
            ]
          },
          "metadata": {
            "tags": []
          },
          "execution_count": 34
        }
      ]
    },
    {
      "cell_type": "code",
      "metadata": {
        "colab": {
          "base_uri": "https://localhost:8080/",
          "height": 235
        },
        "id": "hMBzNINQqvj0",
        "outputId": "d55b97dc-a72d-4538-95f1-1ce24b57e2a6"
      },
      "source": [
        "df_pvt.head()"
      ],
      "execution_count": 35,
      "outputs": [
        {
          "output_type": "execute_result",
          "data": {
            "text/html": [
              "<div>\n",
              "<style scoped>\n",
              "    .dataframe tbody tr th:only-of-type {\n",
              "        vertical-align: middle;\n",
              "    }\n",
              "\n",
              "    .dataframe tbody tr th {\n",
              "        vertical-align: top;\n",
              "    }\n",
              "\n",
              "    .dataframe thead th {\n",
              "        text-align: right;\n",
              "    }\n",
              "</style>\n",
              "<table border=\"1\" class=\"dataframe\">\n",
              "  <thead>\n",
              "    <tr style=\"text-align: right;\">\n",
              "      <th></th>\n",
              "      <th>Ct_Time</th>\n",
              "      <th>10</th>\n",
              "      <th>12</th>\n",
              "      <th>14</th>\n",
              "      <th>16</th>\n",
              "      <th>18</th>\n",
              "      <th>20</th>\n",
              "      <th>22</th>\n",
              "    </tr>\n",
              "    <tr>\n",
              "      <th>Ct_Date</th>\n",
              "      <th>Day</th>\n",
              "      <th></th>\n",
              "      <th></th>\n",
              "      <th></th>\n",
              "      <th></th>\n",
              "      <th></th>\n",
              "      <th></th>\n",
              "      <th></th>\n",
              "    </tr>\n",
              "  </thead>\n",
              "  <tbody>\n",
              "    <tr>\n",
              "      <th>2017-12-11</th>\n",
              "      <th>Monday</th>\n",
              "      <td>754</td>\n",
              "      <td>8211</td>\n",
              "      <td>18047</td>\n",
              "      <td>25007</td>\n",
              "      <td>30213</td>\n",
              "      <td>30323</td>\n",
              "      <td>0</td>\n",
              "    </tr>\n",
              "    <tr>\n",
              "      <th>2017-12-12</th>\n",
              "      <th>Tuesday</th>\n",
              "      <td>634</td>\n",
              "      <td>6401</td>\n",
              "      <td>12708</td>\n",
              "      <td>17930</td>\n",
              "      <td>21885</td>\n",
              "      <td>22025</td>\n",
              "      <td>0</td>\n",
              "    </tr>\n",
              "    <tr>\n",
              "      <th>2017-12-13</th>\n",
              "      <th>Wednesday</th>\n",
              "      <td>476</td>\n",
              "      <td>6421</td>\n",
              "      <td>13216</td>\n",
              "      <td>18664</td>\n",
              "      <td>22771</td>\n",
              "      <td>22923</td>\n",
              "      <td>0</td>\n",
              "    </tr>\n",
              "    <tr>\n",
              "      <th>2017-12-14</th>\n",
              "      <th>Thursday</th>\n",
              "      <td>530</td>\n",
              "      <td>6051</td>\n",
              "      <td>12362</td>\n",
              "      <td>17663</td>\n",
              "      <td>21770</td>\n",
              "      <td>21971</td>\n",
              "      <td>0</td>\n",
              "    </tr>\n",
              "    <tr>\n",
              "      <th>2017-12-15</th>\n",
              "      <th>Friday</th>\n",
              "      <td>482</td>\n",
              "      <td>5397</td>\n",
              "      <td>11078</td>\n",
              "      <td>15978</td>\n",
              "      <td>19833</td>\n",
              "      <td>20017</td>\n",
              "      <td>0</td>\n",
              "    </tr>\n",
              "  </tbody>\n",
              "</table>\n",
              "</div>"
            ],
            "text/plain": [
              "Ct_Time                10    12     14     16     18     20  22\n",
              "Ct_Date    Day                                                 \n",
              "2017-12-11 Monday     754  8211  18047  25007  30213  30323   0\n",
              "2017-12-12 Tuesday    634  6401  12708  17930  21885  22025   0\n",
              "2017-12-13 Wednesday  476  6421  13216  18664  22771  22923   0\n",
              "2017-12-14 Thursday   530  6051  12362  17663  21770  21971   0\n",
              "2017-12-15 Friday     482  5397  11078  15978  19833  20017   0"
            ]
          },
          "metadata": {
            "tags": []
          },
          "execution_count": 35
        }
      ]
    },
    {
      "cell_type": "code",
      "metadata": {
        "id": "NSwdZma6r81n"
      },
      "source": [
        ""
      ],
      "execution_count": null,
      "outputs": []
    }
  ]
}